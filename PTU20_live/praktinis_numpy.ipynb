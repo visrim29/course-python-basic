{
 "cells": [
  {
   "cell_type": "code",
   "execution_count": 1,
   "metadata": {},
   "outputs": [],
   "source": [
    "import numpy as np"
   ]
  },
  {
   "cell_type": "code",
   "execution_count": 2,
   "metadata": {},
   "outputs": [
    {
     "name": "stdout",
     "output_type": "stream",
     "text": [
      "[4 5 1 3 2]\n"
     ]
    }
   ],
   "source": [
    "sarasas = [4, 5, 1, 3, 2]\n",
    "masyvas = np.array(sarasas)\n",
    "print(masyvas)"
   ]
  },
  {
   "cell_type": "code",
   "execution_count": 3,
   "metadata": {},
   "outputs": [
    {
     "name": "stdout",
     "output_type": "stream",
     "text": [
      "[[1, 2, 3], [4, 5, 6], [7, 8, 9]]\n"
     ]
    }
   ],
   "source": [
    "x0 = [[1, 2, 3], [4, 5, 6], [7, 8, 9]]\n",
    "print(x0)"
   ]
  },
  {
   "cell_type": "code",
   "execution_count": 4,
   "metadata": {},
   "outputs": [
    {
     "name": "stdout",
     "output_type": "stream",
     "text": [
      "[[1 2 3]\n",
      " [4 5 6]\n",
      " [7 8 9]]\n"
     ]
    }
   ],
   "source": [
    "x0matrix = np.array(x0)\n",
    "print(x0matrix)"
   ]
  },
  {
   "cell_type": "code",
   "execution_count": 5,
   "metadata": {},
   "outputs": [
    {
     "name": "stdout",
     "output_type": "stream",
     "text": [
      "[  5  10  15  20  25  30  35  40  45  50  55  60  65  70  75  80  85  90\n",
      "  95 100 105 110 115 120 125 130 135 140 145 150 155 160 165 170 175 180\n",
      " 185 190 195 200]\n"
     ]
    }
   ],
   "source": [
    "print(np.arange(5, 202, 5))"
   ]
  },
  {
   "cell_type": "code",
   "execution_count": 6,
   "metadata": {},
   "outputs": [
    {
     "name": "stdout",
     "output_type": "stream",
     "text": [
      "[0. 0. 0. 0. 0.]\n"
     ]
    }
   ],
   "source": [
    "print(np.zeros(5))"
   ]
  },
  {
   "cell_type": "code",
   "execution_count": 7,
   "metadata": {},
   "outputs": [
    {
     "name": "stdout",
     "output_type": "stream",
     "text": [
      "[[0. 0. 0.]\n",
      " [0. 0. 0.]\n",
      " [0. 0. 0.]]\n"
     ]
    }
   ],
   "source": [
    "print(np.zeros((3, 3)))"
   ]
  },
  {
   "cell_type": "code",
   "execution_count": 8,
   "metadata": {},
   "outputs": [
    {
     "name": "stdout",
     "output_type": "stream",
     "text": [
      "[[1. 1. 1.]\n",
      " [1. 1. 1.]\n",
      " [1. 1. 1.]]\n"
     ]
    }
   ],
   "source": [
    "print(np.ones((3, 3)))"
   ]
  },
  {
   "cell_type": "code",
   "execution_count": 9,
   "metadata": {},
   "outputs": [
    {
     "data": {
      "text/plain": [
       "array([21., 26., 31., 36., 41., 46., 51., 56., 61.])"
      ]
     },
     "execution_count": 9,
     "metadata": {},
     "output_type": "execute_result"
    }
   ],
   "source": [
    "np.linspace(21, 61, 9)"
   ]
  },
  {
   "cell_type": "code",
   "execution_count": 10,
   "metadata": {},
   "outputs": [
    {
     "name": "stdout",
     "output_type": "stream",
     "text": [
      "[[1. 0. 0. 0. 0.]\n",
      " [0. 1. 0. 0. 0.]\n",
      " [0. 0. 1. 0. 0.]\n",
      " [0. 0. 0. 1. 0.]\n",
      " [0. 0. 0. 0. 1.]]\n"
     ]
    }
   ],
   "source": [
    "print(np.eye(5))"
   ]
  },
  {
   "cell_type": "code",
   "execution_count": 11,
   "metadata": {},
   "outputs": [
    {
     "data": {
      "text/plain": [
       "array([0.88136702, 0.02105598, 0.23563319, 0.83667698, 0.12952329])"
      ]
     },
     "execution_count": 11,
     "metadata": {},
     "output_type": "execute_result"
    }
   ],
   "source": [
    "np.random.rand(5)"
   ]
  },
  {
   "cell_type": "code",
   "execution_count": 12,
   "metadata": {},
   "outputs": [
    {
     "data": {
      "text/plain": [
       "array([[0.56914123, 0.50263675, 0.61468623, 0.20515143, 0.45919133],\n",
       "       [0.76100387, 0.26494096, 0.30320283, 0.7317195 , 0.10987218],\n",
       "       [0.02707268, 0.58279357, 0.00180188, 0.26450907, 0.33375907],\n",
       "       [0.16050185, 0.75607055, 0.9100438 , 0.23954819, 0.00151225],\n",
       "       [0.76045407, 0.63744793, 0.62945374, 0.92731617, 0.77260839]])"
      ]
     },
     "execution_count": 12,
     "metadata": {},
     "output_type": "execute_result"
    }
   ],
   "source": [
    "np.random.rand(5, 5)"
   ]
  },
  {
   "cell_type": "code",
   "execution_count": 13,
   "metadata": {},
   "outputs": [
    {
     "data": {
      "text/plain": [
       "array([[ 0.55429671,  2.26348158, -1.47382749,  0.8146025 ],\n",
       "       [ 0.68746794,  1.17872189,  0.83264143,  0.32731111],\n",
       "       [-0.18478308,  0.43820461,  0.80156948, -0.08226728],\n",
       "       [ 0.38057142,  0.37338412,  0.66131356, -1.12466072]])"
      ]
     },
     "execution_count": 13,
     "metadata": {},
     "output_type": "execute_result"
    }
   ],
   "source": [
    "np.random.randn(4, 4)"
   ]
  },
  {
   "cell_type": "code",
   "execution_count": 14,
   "metadata": {},
   "outputs": [
    {
     "data": {
      "text/plain": [
       "array([[67, 94,  1, 93, 23],\n",
       "       [64,  3, 96, 65, 95],\n",
       "       [ 3, 32, 71, 97, 34],\n",
       "       [39, 62, 15, 30, 79],\n",
       "       [67, 19, 39, 95, 56]])"
      ]
     },
     "execution_count": 14,
     "metadata": {},
     "output_type": "execute_result"
    }
   ],
   "source": [
    "np.random.randint(1, 100, (5, 5))"
   ]
  },
  {
   "cell_type": "code",
   "execution_count": 15,
   "metadata": {},
   "outputs": [
    {
     "data": {
      "text/plain": [
       "array([76, 57, 66, 77, 99, 49, 87, 84, 72, 31, 37, 85, 11, 34, 53, 35, 22,\n",
       "       49, 82, 97, 59, 24, 96, 34, 75, 50, 39, 82, 97, 55, 57, 77, 63, 67,\n",
       "       99, 96, 95, 43, 23, 86, 49, 26, 20, 83, 40, 51, 55, 63, 65, 26, 77,\n",
       "       61, 61, 78, 62, 99])"
      ]
     },
     "execution_count": 15,
     "metadata": {},
     "output_type": "execute_result"
    }
   ],
   "source": [
    "betko56 = np.random.randint(10, 100, 56)\n",
    "betko56"
   ]
  },
  {
   "cell_type": "code",
   "execution_count": 16,
   "metadata": {},
   "outputs": [
    {
     "data": {
      "text/plain": [
       "array([[76, 57, 66, 77, 99, 49, 87],\n",
       "       [84, 72, 31, 37, 85, 11, 34],\n",
       "       [53, 35, 22, 49, 82, 97, 59],\n",
       "       [24, 96, 34, 75, 50, 39, 82],\n",
       "       [97, 55, 57, 77, 63, 67, 99],\n",
       "       [96, 95, 43, 23, 86, 49, 26],\n",
       "       [20, 83, 40, 51, 55, 63, 65],\n",
       "       [26, 77, 61, 61, 78, 62, 99]])"
      ]
     },
     "execution_count": 16,
     "metadata": {},
     "output_type": "execute_result"
    }
   ],
   "source": [
    "betko8x7 = betko56.reshape(8, 7)\n",
    "betko8x7"
   ]
  },
  {
   "cell_type": "code",
   "execution_count": 17,
   "metadata": {},
   "outputs": [
    {
     "data": {
      "text/plain": [
       "array([[76, 84, 53, 24, 97, 96, 20, 26],\n",
       "       [57, 72, 35, 96, 55, 95, 83, 77],\n",
       "       [66, 31, 22, 34, 57, 43, 40, 61],\n",
       "       [77, 37, 49, 75, 77, 23, 51, 61],\n",
       "       [99, 85, 82, 50, 63, 86, 55, 78],\n",
       "       [49, 11, 97, 39, 67, 49, 63, 62],\n",
       "       [87, 34, 59, 82, 99, 26, 65, 99]])"
      ]
     },
     "execution_count": 17,
     "metadata": {},
     "output_type": "execute_result"
    }
   ],
   "source": [
    "betko7x8 = betko8x7.transpose()\n",
    "betko7x8"
   ]
  },
  {
   "cell_type": "code",
   "execution_count": 18,
   "metadata": {},
   "outputs": [
    {
     "data": {
      "text/plain": [
       "array([76, 84, 53, 24, 97, 96, 20, 26, 57, 72, 35, 96, 55, 95, 83, 77, 66,\n",
       "       31, 22, 34, 57, 43, 40, 61, 77, 37, 49, 75, 77, 23, 51, 61, 99, 85,\n",
       "       82, 50, 63, 86, 55, 78, 49, 11, 97, 39, 67, 49, 63, 62, 87, 34, 59,\n",
       "       82, 99, 26, 65, 99])"
      ]
     },
     "execution_count": 18,
     "metadata": {},
     "output_type": "execute_result"
    }
   ],
   "source": [
    "betko7x8.reshape(56)"
   ]
  },
  {
   "cell_type": "code",
   "execution_count": 19,
   "metadata": {},
   "outputs": [
    {
     "name": "stdout",
     "output_type": "stream",
     "text": [
      "524889:-4.730088178272183, 162316:4.8479284597797365\n"
     ]
    }
   ],
   "source": [
    "daug_betko = np.random.randn(1000, 1000)\n",
    "print(f\"{daug_betko.argmin()}:{daug_betko.min()}, {daug_betko.argmax()}:{daug_betko.max()}\")"
   ]
  },
  {
   "cell_type": "code",
   "execution_count": 20,
   "metadata": {},
   "outputs": [
    {
     "name": "stdout",
     "output_type": "stream",
     "text": [
      "(1000, 1000) float64\n"
     ]
    }
   ],
   "source": [
    "print(daug_betko.shape, daug_betko.dtype)"
   ]
  },
  {
   "cell_type": "code",
   "execution_count": 21,
   "metadata": {},
   "outputs": [
    {
     "name": "stdout",
     "output_type": "stream",
     "text": [
      "[3 7 6 9 8 3 4 8 4 4]\n",
      "3 9 [3 4 8 4]\n"
     ]
    }
   ],
   "source": [
    "betko10 = np.random.randint(1, 10, 10)\n",
    "print(betko10)\n",
    "print(betko10[0], betko10[3], betko10[5:9])"
   ]
  },
  {
   "cell_type": "code",
   "execution_count": 22,
   "metadata": {},
   "outputs": [
    {
     "name": "stdout",
     "output_type": "stream",
     "text": [
      "[4 4 8 4 3 8 9 6 7 3]\n"
     ]
    }
   ],
   "source": [
    "print(betko10[::-1])"
   ]
  },
  {
   "cell_type": "code",
   "execution_count": 23,
   "metadata": {},
   "outputs": [
    {
     "name": "stdout",
     "output_type": "stream",
     "text": [
      "[8 4]\n"
     ]
    }
   ],
   "source": [
    "print(betko10[-3:5:-1])"
   ]
  },
  {
   "cell_type": "code",
   "execution_count": 24,
   "metadata": {},
   "outputs": [
    {
     "name": "stdout",
     "output_type": "stream",
     "text": [
      "[0 7 0 9 0 3 0 8 0 4]\n"
     ]
    }
   ],
   "source": [
    "betko10[::2] = 0\n",
    "print(betko10)"
   ]
  },
  {
   "cell_type": "code",
   "execution_count": 25,
   "metadata": {},
   "outputs": [
    {
     "name": "stdout",
     "output_type": "stream",
     "text": [
      "[[76 84 53 24 97 96 20]\n",
      " [57 72 35 96 55 95 83]\n",
      " [66 31 22 34 57 43 40]\n",
      " [77 37 49 75 77 23 51]\n",
      " [99 85 82 50 63 86 55]\n",
      " [49 11 97 39 67 49 63]\n",
      " [87 34 59 82 99 26 65]] (7, 7) 75\n"
     ]
    }
   ],
   "source": [
    "betko7x7 = betko7x8[:, :7]\n",
    "print(betko7x7, betko7x7.shape, betko7x7[3, 3])"
   ]
  },
  {
   "cell_type": "code",
   "execution_count": 26,
   "metadata": {},
   "outputs": [
    {
     "name": "stdout",
     "output_type": "stream",
     "text": [
      "[[22 34 57]\n",
      " [49 75 77]\n",
      " [82 50 63]]\n"
     ]
    }
   ],
   "source": [
    "print(betko7x7[2:5, 2:5])"
   ]
  },
  {
   "cell_type": "code",
   "execution_count": 27,
   "metadata": {},
   "outputs": [
    {
     "name": "stdout",
     "output_type": "stream",
     "text": [
      "[[ True  True  True False  True  True False]\n",
      " [ True  True False  True  True  True  True]\n",
      " [ True False False False  True False False]\n",
      " [ True False False  True  True False  True]\n",
      " [ True  True  True  True  True  True  True]\n",
      " [False False  True False  True False  True]\n",
      " [ True False  True  True  True False  True]]\n"
     ]
    }
   ],
   "source": [
    "senukai = betko7x7 >= 50\n",
    "print(senukai)"
   ]
  },
  {
   "cell_type": "code",
   "execution_count": 28,
   "metadata": {},
   "outputs": [
    {
     "name": "stdout",
     "output_type": "stream",
     "text": [
      "[76 84 53 97 96 57 72 96 55 95 83 66 57 77 75 77 51 99 85 82 50 63 86 55\n",
      " 97 67 63 87 59 82 99 65] (32,)\n"
     ]
    }
   ],
   "source": [
    "print(betko7x7[senukai], betko7x7[senukai].shape)"
   ]
  },
  {
   "cell_type": "code",
   "execution_count": 29,
   "metadata": {},
   "outputs": [
    {
     "data": {
      "text/plain": [
       "(array([24, 20, 35, 31, 22, 34, 43, 40, 37, 49, 23, 49, 11, 39, 49, 34, 26]),\n",
       " (17,))"
      ]
     },
     "execution_count": 29,
     "metadata": {},
     "output_type": "execute_result"
    }
   ],
   "source": [
    "betko7x7[betko7x7 < 50], betko7x7[betko7x7 < 50].shape"
   ]
  },
  {
   "cell_type": "code",
   "execution_count": 30,
   "metadata": {},
   "outputs": [
    {
     "name": "stdout",
     "output_type": "stream",
     "text": [
      "[[76 84 53 24 97 96 20]\n",
      " [57 72 35 96 55 95 83]\n",
      " [66 31 77 77 77 43 40]\n",
      " [77 37 77 77 77 23 51]\n",
      " [99 85 77 77 77 86 55]\n",
      " [49 11 97 39 67 49 63]\n",
      " [87 34 59 82 99 26 65]]\n"
     ]
    }
   ],
   "source": [
    "betko7x7[2:5, 2:5] = 77\n",
    "print(betko7x7)"
   ]
  },
  {
   "cell_type": "code",
   "execution_count": 31,
   "metadata": {},
   "outputs": [
    {
     "data": {
      "text/plain": [
       "array([[76, 57, 66, 77, 99, 49, 87],\n",
       "       [84, 72, 31, 37, 85, 11, 34],\n",
       "       [53, 35, 77, 77, 77, 97, 59],\n",
       "       [24, 96, 77, 77, 77, 39, 82],\n",
       "       [97, 55, 77, 77, 77, 67, 99],\n",
       "       [96, 95, 43, 23, 86, 49, 26],\n",
       "       [20, 83, 40, 51, 55, 63, 65],\n",
       "       [26, 77, 61, 61, 78, 62, 99]])"
      ]
     },
     "execution_count": 31,
     "metadata": {},
     "output_type": "execute_result"
    }
   ],
   "source": [
    "betko8x7"
   ]
  },
  {
   "cell_type": "code",
   "execution_count": 32,
   "metadata": {},
   "outputs": [
    {
     "data": {
      "text/plain": [
       "array([[77, 77, 77],\n",
       "       [77, 77, 77],\n",
       "       [77, 77, 77]])"
      ]
     },
     "execution_count": 32,
     "metadata": {},
     "output_type": "execute_result"
    }
   ],
   "source": [
    "septyni7 = betko7x7[2:5, 2:5].copy()\n",
    "septyni7"
   ]
  },
  {
   "cell_type": "code",
   "execution_count": 33,
   "metadata": {},
   "outputs": [
    {
     "data": {
      "text/plain": [
       "array([[76, 84, 53, 24, 97, 96, 20, 26],\n",
       "       [57, 72, 35, 96, 55, 95, 83, 77],\n",
       "       [66, 31, 74, 23, 93, 43, 40, 61],\n",
       "       [77, 37, 37, 52, 11, 23, 51, 61],\n",
       "       [99, 85, 13, 65, 93, 86, 55, 78],\n",
       "       [49, 11, 97, 39, 67, 49, 63, 62],\n",
       "       [87, 34, 59, 82, 99, 26, 65, 99]])"
      ]
     },
     "execution_count": 33,
     "metadata": {},
     "output_type": "execute_result"
    }
   ],
   "source": [
    "betko7x7[2:5, 2:5] = np.random.randint(10, 100, (3, 3))\n",
    "betko7x8"
   ]
  },
  {
   "cell_type": "code",
   "execution_count": 34,
   "metadata": {},
   "outputs": [
    {
     "data": {
      "text/plain": [
       "array([[77, 77, 77],\n",
       "       [77, 77, 77],\n",
       "       [77, 77, 77]])"
      ]
     },
     "execution_count": 34,
     "metadata": {},
     "output_type": "execute_result"
    }
   ],
   "source": [
    "septyni7"
   ]
  },
  {
   "cell_type": "markdown",
   "metadata": {},
   "source": [
    "# Matematika"
   ]
  },
  {
   "cell_type": "code",
   "execution_count": 35,
   "metadata": {},
   "outputs": [
    {
     "name": "stdout",
     "output_type": "stream",
     "text": [
      "[[100 100 100]\n",
      " [100 100 100]\n",
      " [100 100 100]]\n"
     ]
    }
   ],
   "source": [
    "simtukai = septyni7 + 23\n",
    "print(simtukai)"
   ]
  },
  {
   "cell_type": "code",
   "execution_count": 36,
   "metadata": {},
   "outputs": [
    {
     "data": {
      "text/plain": [
       "array([[123, 123, 123],\n",
       "       [123, 123, 123],\n",
       "       [123, 123, 123]])"
      ]
     },
     "execution_count": 36,
     "metadata": {},
     "output_type": "execute_result"
    }
   ],
   "source": [
    "simtukai += 23\n",
    "simtukai"
   ]
  },
  {
   "cell_type": "code",
   "execution_count": 37,
   "metadata": {},
   "outputs": [
    {
     "data": {
      "text/plain": [
       "array([[200, 200, 200],\n",
       "       [200, 200, 200],\n",
       "       [200, 200, 200]])"
      ]
     },
     "execution_count": 37,
     "metadata": {},
     "output_type": "execute_result"
    }
   ],
   "source": [
    "simtukai + septyni7"
   ]
  },
  {
   "cell_type": "code",
   "execution_count": 38,
   "metadata": {},
   "outputs": [
    {
     "data": {
      "text/plain": [
       "array([[1.5974026, 1.5974026, 1.5974026],\n",
       "       [1.5974026, 1.5974026, 1.5974026],\n",
       "       [1.5974026, 1.5974026, 1.5974026]])"
      ]
     },
     "execution_count": 38,
     "metadata": {},
     "output_type": "execute_result"
    }
   ],
   "source": [
    "simtukai / septyni7"
   ]
  },
  {
   "cell_type": "code",
   "execution_count": 39,
   "metadata": {},
   "outputs": [
    {
     "data": {
      "text/plain": [
       "array([[      192699928576,             592704,          418195493],\n",
       "       [          10556001,         1934917632,        64339296875],\n",
       "       [          18974736,           28629151,           29986576],\n",
       "       [  1235736291547681,        94931877133,            1874161],\n",
       "       [        9509900499,               7225,            4826809],\n",
       "       [      678223072849,               1331, 760231058654565217],\n",
       "       [          57289761,           45435424,      2488651484819]])"
      ]
     },
     "execution_count": 39,
     "metadata": {},
     "output_type": "execute_result"
    }
   ],
   "source": [
    "random77 = betko7x7 ** np.random.randint(2, 10, (7, 7))\n",
    "random77[:, :3]"
   ]
  },
  {
   "cell_type": "code",
   "execution_count": 40,
   "metadata": {},
   "outputs": [
    {
     "data": {
      "text/plain": [
       "array([[ 1,  2,  3,  4],\n",
       "       [ 5,  6,  7,  8],\n",
       "       [ 9, 10, 11, 12],\n",
       "       [13, 14, 15, 16]])"
      ]
     },
     "execution_count": 40,
     "metadata": {},
     "output_type": "execute_result"
    }
   ],
   "source": [
    "eile_4x4 = np.arange(1, 17).reshape(4, 4)\n",
    "eile_4x4"
   ]
  },
  {
   "cell_type": "code",
   "execution_count": 49,
   "metadata": {},
   "outputs": [
    {
     "data": {
      "text/plain": [
       "array([[ 7,  8],\n",
       "       [11, 12]])"
      ]
     },
     "execution_count": 49,
     "metadata": {},
     "output_type": "execute_result"
    }
   ],
   "source": [
    "eile_4x4[1:3, 2:4]"
   ]
  }
 ],
 "metadata": {
  "kernelspec": {
   "display_name": "venv",
   "language": "python",
   "name": "python3"
  },
  "language_info": {
   "codemirror_mode": {
    "name": "ipython",
    "version": 3
   },
   "file_extension": ".py",
   "mimetype": "text/x-python",
   "name": "python",
   "nbconvert_exporter": "python",
   "pygments_lexer": "ipython3",
   "version": "3.10.12"
  }
 },
 "nbformat": 4,
 "nbformat_minor": 2
}
